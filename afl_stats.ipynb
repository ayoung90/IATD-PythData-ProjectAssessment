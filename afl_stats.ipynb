{
 "cells": [
  {
   "cell_type": "markdown",
   "metadata": {},
   "source": [
    "# Python for data analytics – Project assessment"
   ]
  },
  {
   "cell_type": "code",
   "execution_count": null,
   "metadata": {},
   "outputs": [],
   "source": [
    "# imports\n",
    "import pandas as pd\n",
    "import numpy as np\n"
   ]
  },
  {
   "cell_type": "markdown",
   "metadata": {},
   "source": [
    "## Task 1 - Load your data\n",
    "\n",
    "### Assignment Spec\n",
    "> You should take your data from three files:\n",
    ">  * data/afl/stats.csv\n",
    ">  * data/afl/players.csv\n",
    ">  * data/afl/games.csv\n",
    ">\n",
    "> And it should be loaded into a single dataframe by merging the three data sets.\n",
    "\n",
    "\n",
    "### Explanation of Steps taken\n",
    "\n",
    "1. Load each csv in data/afl/ into individual dataframes\n",
    "2. The stats csv data contains statistics relevant to players involved in specific games. \n",
    "    * Hence we first join stats to games\n",
    "    * We use the gameId column within stats as its foreign key linkage to the games gameId\n",
    "\n",
    "3. We then further join players to the combined table above. The players csv contains player specific information\n"
   ]
  },
  {
   "cell_type": "code",
   "execution_count": null,
   "metadata": {},
   "outputs": [],
   "source": [
    "stats = pd.read_csv(\"data/afl/stats.csv\")\n",
    "players = pd.read_csv(\"data/afl/players.csv\", index_col=\"playerId\")\n",
    "games = pd.read_csv(\"data/afl/games.csv\", index_col=\"gameId\")\n",
    "\n",
    "games_stats = games.join(stats.set_index(\"gameId\"), on='gameId', lsuffix='_games', rsuffix='_stats')\n",
    "games_stats_players = games_stats.join(players, on='playerId', lsuffix='_stats', rsuffix='_players')\n",
    "\n",
    "# loaded into a single dataframe by merging the three data sets\n",
    "games_stats_players\n"
   ]
  },
  {
   "cell_type": "markdown",
   "metadata": {},
   "source": [
    "The below helper functions are used to reduce duplicate code as all plots are similar views on the Goals data\n",
    "\n",
    "    set_plot_attributes --> Set global attributes to apply to plots\n",
    "    plot_player --> Plots cumulative goals for a player. Optionally displays of linear regression line\n",
    "    get_random_player_name --> Returns a random AFL player name within the games_stats_players dataframe"
   ]
  },
  {
   "cell_type": "code",
   "execution_count": null,
   "metadata": {},
   "outputs": [],
   "source": [
    "# globals for plot attributes\n",
    "PLOT_TITLE      = \"\"\n",
    "X_AXIS_LABEL    = \"\"\n",
    "Y_AXIS_LABEL    = \"\"\n",
    "SHOW_LEGEND     = False\n",
    "\n",
    "# below helper functions reduce duplicate code as all plots are roughly the same view\n",
    "\n",
    "def set_plot_attributes(title, x_label, y_label, show_legend=False):\n",
    "    \"\"\"Set global attributes to apply to plot\n",
    "    \n",
    "    Args:\n",
    "        title (String): title of plot\n",
    "        x_label (String): x axis label\n",
    "        y_label (String): y axis label\n",
    "        show_legend (bool, optional): Toggles display of legend on plots\n",
    "    \"\"\"\n",
    "    global PLOT_TITLE, X_AXIS_LABEL, Y_AXIS_LABEL, SHOW_LEGEND\n",
    "\n",
    "    PLOT_TITLE = title\n",
    "    X_AXIS_LABEL = x_label\n",
    "    Y_AXIS_LABEL = y_label\n",
    "    SHOW_LEGEND = show_legend\n",
    "\n",
    "def plot_player(player_name, add_linear_regression=False):\n",
    "    \"\"\" \n",
    "    1. Filters the games_stats_players dataframe by a specific player name\n",
    "    2. Sorts descending by game number to correctly accumulate\n",
    "    4. Plots the player\n",
    "\n",
    "    Args:\n",
    "        player_name (String): player name for which to plot\n",
    "        add_linear_regression (bool, optional): Toggles display of linear regression line. Defaults to False.\n",
    "    \"\"\"\n",
    "    # create mask for filtering\n",
    "    player_mask = games_stats_players[\"displayName_stats\"] == player_name\n",
    "\n",
    "    # create dataframe & sort to allow for accumulation\n",
    "    player_stats_desc = games_stats_players[player_mask].sort_values(by=\"gameNumber\", ascending=True)\n",
    "\n",
    "    # add a cumulative goals column\n",
    "    player_stats_desc[\"Goals (Cumulative)\"] = player_stats_desc[\"Goals\"].cumsum()\n",
    "\n",
    "    # reset_index() to normalise\n",
    "    player_series = player_stats_desc.reset_index(drop=True)\n",
    "\n",
    "    # plot cumulative goals series\n",
    "    player_series[\"Goals (Cumulative)\"].plot(label=player_name,xlabel=X_AXIS_LABEL, ylabel=Y_AXIS_LABEL, title=PLOT_TITLE, legend=SHOW_LEGEND)\n",
    "    \n",
    "    #optionally add a linear regression line\n",
    "    if add_linear_regression:\n",
    "        regression_label = f\"{player_name} - Goals (Predictions)\"\n",
    "        x = player_series.index\n",
    "        y = player_series[\"Goals (Cumulative)\"]\n",
    "        \n",
    "        coefficients = np.polyfit(x, y, 1)\n",
    "        poly1d_fn = np.poly1d(coefficients)\n",
    "        \n",
    "        player_series[\"Goals (Predictions)\"] = poly1d_fn(x)\n",
    "        player_series[\"Goals (Predictions)\"].plot(label=regression_label, legend=SHOW_LEGEND)\n",
    "\n",
    "def get_random_player_name():\n",
    "    \"\"\"\n",
    "    Returns:\n",
    "        String: A random AFL player name within the games_stats_players dataframe\n",
    "    \"\"\"\n",
    "    return games_stats_players[\"displayName_stats\"].sample().values[0]"
   ]
  },
  {
   "cell_type": "markdown",
   "metadata": {},
   "source": [
    "\n",
    "---\n",
    "\n",
    "## Task 2 – Plot one player\n",
    "\n",
    "### Assignment Spec\n",
    "\n",
    ">For a particular player - say \"Franklin, Lance\" - plot their accumlation of goals over time. The x-axis should be the number of games played and the y-axis should be the number of goals accumulated. Thus we expect to see a line that monotonically increases, but in what way will depend on the player's career.\n",
    "\n",
    "\n",
    "### Explanation of Result\n",
    "\n",
    "* Lance (Buddy) Franklin is one of most skilled AFL goalkickers of all time\n",
    "* He falls within the unique group of only 6 players who have kicked over 1000 goals\n",
    "* As you can see in the plot below, the number of goals per game grows almost linearly per game\n",
    "* This kind of consistency is **unique** amongst key forwards and hence why he could secure a huge [9 year, $10 million contract](https://www.theage.com.au/sport/afl/revealed-buddy-franklin-to-profit-heavily-in-later-years-of-megadeal-20131009-2v8qk.html) at the Swans after 9 years at Hawthorn\n",
    "    * Note: [the average career is just more than six years](https://www.aflplayers.com.au/news-feed/stories/the-exit-game)"
   ]
  },
  {
   "cell_type": "code",
   "execution_count": null,
   "metadata": {},
   "outputs": [],
   "source": [
    "player = 'Franklin, Lance'\n",
    "\n",
    "# Note: uncomment below line to plot a random player :)\n",
    "#player = get_random_player_name()\n",
    "\n",
    "set_plot_attributes(title=f\"{player} - Accumulation of goals over time\", x_label=\"Goals\", y_label=\"Number of Games\")\n",
    "\n",
    "plot_player(player_name=player)\n"
   ]
  },
  {
   "cell_type": "markdown",
   "metadata": {},
   "source": [
    "\n",
    "---\n",
    "\n",
    "## Task 3 – Plot multiple players\n",
    "\n",
    "### Assignment Spec\n",
    "> In the one chart, plot the lines for the following players:\n",
    "> - \"Franklin, Lance\"\n",
    "> - \"Papley, Tom\"\n",
    "> - \"Mumford, Shane\"\n",
    "> - \"Hooker, Cale\".\n",
    ">\n",
    "> Plot each in a different colour so they can be distinguished and add a legend.\n",
    "\n",
    "\n",
    "### Explanation of Result\n",
    "\n",
    "#### Franklin, Lance\n",
    "* This plot further highlights the differentiation in goals that a top 6 goalkicker of all time has against non Key forwards\n",
    "\n",
    "#### Papley, Tom\n",
    "*Tom Papley who is a small forward, the difference that a tall and strong forward can make is substantial\n",
    "\n",
    "#### Mumford, Shane\n",
    "* Shane being a Ruckman is not primarily tasked with kicking goals but enabling opportunities at stoppage\n",
    "* Personally, if we were to plot free kicks against *(or sausages eaten)*, Shane would be on top\n",
    "\n",
    "#### Hooker, Cale\n",
    "* Cale hooker appears to be one of the few backmen that can kick straight enough to be able to play up front\n",
    "* This explains why you see a rapid increase in goals scored from game 75.\n",
    "* However, unfortunately Cale missed a full season due to using banned performance enhancing substances."
   ]
  },
  {
   "cell_type": "code",
   "execution_count": null,
   "metadata": {},
   "outputs": [],
   "source": [
    "add_regression = False\n",
    "\n",
    "# Note: uncomment below line to plot regression lines for all players\n",
    "#add_regression = True\n",
    "\n",
    "set_plot_attributes(title=\"Players - Accumulation of goals over time\", x_label=\"Goals\", y_label=\"Number of Games\", show_legend=True)\n",
    "\n",
    "plot_player(player_name='Franklin, Lance', add_linear_regression=add_regression)\n",
    "plot_player(player_name='Papley, Tom'    , add_linear_regression=add_regression)\n",
    "plot_player(player_name='Mumford, Shane' , add_linear_regression=add_regression)\n",
    "plot_player(player_name='Hooker, Cale'   , add_linear_regression=add_regression)\n"
   ]
  },
  {
   "cell_type": "markdown",
   "metadata": {},
   "source": [
    "\n",
    "---\n",
    "\n",
    "## Task 4 – Linear Regression\n",
    "\n",
    "### Assignment Spec\n",
    "> Create a second plot showing just \"Franklin, Lance\" and \"Hooker, Cale\" but include the linear regression line for each. In other words. as well as showing their actual cummulative goals over time, plot their predicted goals over time where the prediction is done via Linear Regression. Be sure to use different colours for each line and include a legend.\n",
    "\n",
    "\n",
    "### Explanation of Result\n",
    "\n",
    "TODO"
   ]
  },
  {
   "cell_type": "code",
   "execution_count": null,
   "metadata": {},
   "outputs": [],
   "source": [
    "player = 'Franklin, Lance'\n",
    "\n",
    "# Note: uncomment below line to plot a random player :)\n",
    "#player = get_random_player_name()\n",
    "\n",
    "set_plot_attributes(f\"{player} - Accumulation of goals over time\",\"Goals\", \"Number of Games\", show_legend=True)\n",
    "\n",
    "plot_player(player, add_linear_regression=True)"
   ]
  }
 ],
 "metadata": {
  "kernelspec": {
   "display_name": "Python 3",
   "language": "python",
   "name": "python3"
  },
  "language_info": {
   "codemirror_mode": {
    "name": "ipython",
    "version": 3
   },
   "file_extension": ".py",
   "mimetype": "text/x-python",
   "name": "python",
   "nbconvert_exporter": "python",
   "pygments_lexer": "ipython3",
   "version": "3.8.10"
  },
  "orig_nbformat": 4
 },
 "nbformat": 4,
 "nbformat_minor": 2
}
