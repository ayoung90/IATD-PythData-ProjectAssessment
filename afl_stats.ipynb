{
 "cells": [
  {
   "cell_type": "markdown",
   "metadata": {},
   "source": [
    "# Python for data analytics – Project assessment"
   ]
  },
  {
   "cell_type": "markdown",
   "metadata": {},
   "source": [
    "## Task 1 - Load your data\n",
    "\n",
    "You should take your data from three files:\n",
    "  * data/afl/stats.csv\n",
    "  * data/afl/players.csv\n",
    "  * data/afl/games.csv\n",
    "\n",
    "And it should be loaded into a single dataframe by merging the three data sets.\n"
   ]
  },
  {
   "cell_type": "code",
   "execution_count": null,
   "metadata": {},
   "outputs": [],
   "source": [
    "import pandas as pd\n",
    "\n",
    "stats = pd.read_csv(\"data/afl/stats.csv\")\n",
    "players = pd.read_csv(\"data/afl/players.csv\", index_col=\"playerId\")\n",
    "games = pd.read_csv(\"data/afl/games.csv\", index_col=\"gameId\")\n",
    "\n",
    "games_stats = games.join(stats.set_index(\"gameId\"), on='gameId', lsuffix='_games', rsuffix='_stats')\n",
    "games_stats_players = games_stats.join(players, on='playerId', lsuffix='_stats', rsuffix='_players')\n",
    "\n",
    "# loaded into a single dataframe by merging the three data sets\n",
    "games_stats_players"
   ]
  },
  {
   "cell_type": "markdown",
   "metadata": {},
   "source": [
    "## Task 2 – Plot one player\n",
    "For a particular player - say \"Franklin, Lance\" - plot their accumlation of goals over time. The x-axis should be the number of games played and the y-axis should be the number of goals accumulated. Thus we expect to see a line that monotonically increases, but in what way will depend on the player's career."
   ]
  },
  {
   "cell_type": "code",
   "execution_count": null,
   "metadata": {},
   "outputs": [],
   "source": [
    "#!Note: modify below to choose a specific player\n",
    "player = 'Franklin, Lance'\n",
    "\n",
    "#try to get a random player working\n",
    "# player = games_stats_players[\"displayName_stats\"].sample()\n",
    "\n",
    "#create mask for filtering\n",
    "player_mask = games_stats_players[\"displayName_stats\"] == player\n",
    "\n",
    "#create dataframe & sort to allow for accumulation\n",
    "player_stats_desc = games_stats_players[player_mask].sort_values(by=\"gameNumber\", ascending=True)\n",
    "\n",
    "#add a cumulative goals column\n",
    "player_stats_desc[\"Goals (Cumulative)\"] = player_stats_desc[\"Goals\"].cumsum()\n",
    "\n",
    "#create player series for graphing. reset_index() to normalise\n",
    "player_series = player_stats_desc[\"Goals (Cumulative)\"].reset_index(drop=True)\n",
    "\n",
    "#graph series\n",
    "player_series.plot(xlabel=\"Number of games\",ylabel=\"Goals\", title=f\"{player} - Accumulation of goals over time\")"
   ]
  },
  {
   "cell_type": "markdown",
   "metadata": {},
   "source": [
    "## Task 3 – Plot multiple players\n",
    "In the one chart, plot the lines for the following players:\n",
    "•\t  \"Franklin, Lance\"\n",
    "•\t  \"Papley, Tom\"\n",
    "•\t  \"Mumford, Shane\"\n",
    "•\t  \"Hooker, Cale\".\n",
    "\n",
    "Plot each in a different colour so they can be distinguished and add a legend."
   ]
  },
  {
   "cell_type": "code",
   "execution_count": null,
   "metadata": {},
   "outputs": [],
   "source": [
    "#create masks for filtering\n",
    "lance_mask = games_stats_players[\"displayName_stats\"] == 'Franklin, Lance'\n",
    "tom_mask = games_stats_players[\"displayName_stats\"] == 'Papley, Tom'\n",
    "shane_mask = games_stats_players[\"displayName_stats\"] == 'Mumford, Shane'\n",
    "cale_mask = games_stats_players[\"displayName_stats\"] == 'Hooker, Cale'\n",
    "\n",
    "#create dataframes per player & sort to allow for accumulation\n",
    "lance_stats_desc = games_stats_players[lance_mask].sort_values(by=\"gameNumber\", ascending=True)\n",
    "tom_stats_desc = games_stats_players[tom_mask].sort_values(by=\"gameNumber\", ascending=True)\n",
    "shane_stats_desc = games_stats_players[shane_mask].sort_values(by=\"gameNumber\", ascending=True)\n",
    "cale_stats_desc = games_stats_players[cale_mask].sort_values(by=\"gameNumber\", ascending=True)\n",
    "\n",
    "#add a cumulative goals column per dataframe\n",
    "lance_stats_desc[\"Goals (Cumulative)\"] = lance_stats_desc[\"Goals\"].cumsum()\n",
    "tom_stats_desc[\"Goals (Cumulative)\"] = tom_stats_desc[\"Goals\"].cumsum()\n",
    "shane_stats_desc[\"Goals (Cumulative)\"] = shane_stats_desc[\"Goals\"].cumsum()\n",
    "cale_stats_desc[\"Goals (Cumulative)\"] = cale_stats_desc[\"Goals\"].cumsum()\n",
    "\n",
    "#create player series for graphing. reset_index() to normalise\n",
    "lance_series = lance_stats_desc[\"Goals (Cumulative)\"].reset_index(drop=True)\n",
    "tom_series = tom_stats_desc[\"Goals (Cumulative)\"].reset_index(drop=True)\n",
    "shane_series = shane_stats_desc[\"Goals (Cumulative)\"].reset_index(drop=True)\n",
    "cale_series = cale_stats_desc[\"Goals (Cumulative)\"].reset_index(drop=True)\n",
    "\n",
    "#graph all 4 series on a single view\n",
    "combined_player_graph = \\\n",
    "lance_series.plot(label=\"Franklin, Lance\",legend=True)\n",
    "tom_series.plot(label=\"Papley, Tom\",legend=True,ax=combined_player_graph)\n",
    "shane_series.plot(label=\"Mumford, Shane\",legend=True,ax=combined_player_graph)\n",
    "cale_series.plot(xlabel=\"Number of games\",ylabel=\"Goals\", label=\"Hooker, Cale\",ax=combined_player_graph, title=\"Players - Accumulation of goals over time\",legend=True)"
   ]
  },
  {
   "cell_type": "markdown",
   "metadata": {},
   "source": [
    "## Task 4 – Linear Regression\n",
    "Create a second plot showing just \"Franklin, Lance\" and \"Hooker, Cale\" but include the linear regression line for each. In other words. as well as showing their actual cummulative goals over time, plot their predicted goals over time where the prediction is done via Linear Regression. Be sure to use different colours for each line and include a legend."
   ]
  },
  {
   "cell_type": "code",
   "execution_count": null,
   "metadata": {},
   "outputs": [],
   "source": [
    "#todo"
   ]
  }
 ],
 "metadata": {
  "kernelspec": {
   "display_name": "Python 3",
   "language": "python",
   "name": "python3"
  },
  "language_info": {
   "codemirror_mode": {
    "name": "ipython",
    "version": 3
   },
   "file_extension": ".py",
   "mimetype": "text/x-python",
   "name": "python",
   "nbconvert_exporter": "python",
   "pygments_lexer": "ipython3",
   "version": "3.8.10"
  },
  "orig_nbformat": 4
 },
 "nbformat": 4,
 "nbformat_minor": 2
}
