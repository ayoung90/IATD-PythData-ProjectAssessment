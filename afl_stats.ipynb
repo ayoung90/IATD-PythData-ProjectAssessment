{
 "cells": [
  {
   "cell_type": "markdown",
   "metadata": {},
   "source": [
    "# Python for data analytics – Project assessment"
   ]
  },
  {
   "cell_type": "code",
   "execution_count": null,
   "metadata": {},
   "outputs": [],
   "source": [
    "# imports\n",
    "import pandas as pd"
   ]
  },
  {
   "cell_type": "markdown",
   "metadata": {},
   "source": [
    "## Task 1 - Load your data\n",
    "\n",
    "### Assignment Spec\n",
    "> You should take your data from three files:\n",
    ">  * data/afl/stats.csv\n",
    ">  * data/afl/players.csv\n",
    ">  * data/afl/games.csv\n",
    ">\n",
    "> And it should be loaded into a single dataframe by merging the three data sets.\n",
    "\n",
    "\n",
    "### Explanation of Steps taken\n",
    "\n",
    "TODO"
   ]
  },
  {
   "cell_type": "code",
   "execution_count": null,
   "metadata": {},
   "outputs": [],
   "source": [
    "stats = pd.read_csv(\"data/afl/stats.csv\")\n",
    "players = pd.read_csv(\"data/afl/players.csv\", index_col=\"playerId\")\n",
    "games = pd.read_csv(\"data/afl/games.csv\", index_col=\"gameId\")\n",
    "\n",
    "games_stats = games.join(stats.set_index(\"gameId\"), on='gameId', lsuffix='_games', rsuffix='_stats')\n",
    "games_stats_players = games_stats.join(players, on='playerId', lsuffix='_stats', rsuffix='_players')\n",
    "\n",
    "# loaded into a single dataframe by merging the three data sets\n",
    "games_stats_players\n"
   ]
  },
  {
   "cell_type": "code",
   "execution_count": null,
   "metadata": {},
   "outputs": [],
   "source": [
    "# globals for graph attributes\n",
    "GRAPH_TITLE = \"\"\n",
    "X_AXIS_LABEL = \"\"\n",
    "Y_AXIS_LABEL = \"\"\n",
    "\n",
    "# below helper functions reduce duplicate code as all graphs are roughly the same view\n",
    "\n",
    "def set_graph_attributes(title, x_label, y_label):\n",
    "    \"\"\"Set global attributes to apply to graph\n",
    "    Args:\n",
    "        title (String): title of graph\n",
    "        x_label (String): x axis label\n",
    "        y_label (String): y axis label\n",
    "    \"\"\"\n",
    "    global GRAPH_TITLE, X_AXIS_LABEL, Y_AXIS_LABEL\n",
    "\n",
    "    GRAPH_TITLE = title\n",
    "    X_AXIS_LABEL = x_label\n",
    "    Y_AXIS_LABEL = y_label\n",
    "\n",
    "def plot_player(player_name, display_legend=False):\n",
    "    \"\"\" \n",
    "    1. Filters the games_stats_players dataframe by a specific player name\n",
    "    2. Sorts decending by game number to correctly accumulate\n",
    "    4. Plots the player\n",
    "\n",
    "    Args:\n",
    "        player_name (String): player name for which to graph\n",
    "        display_legend (bool, optional): Toggles display of player on legend. Defaults to False.\n",
    "    \"\"\"\n",
    "    # create mask for filtering\n",
    "    player_mask = games_stats_players[\"displayName_stats\"] == player_name\n",
    "\n",
    "    # create dataframe & sort to allow for accumulation\n",
    "    player_stats_desc = games_stats_players[player_mask].sort_values(by=\"gameNumber\", ascending=True)\n",
    "\n",
    "    # add a cumulative goals column\n",
    "    player_stats_desc[\"Goals (Cumulative)\"] = player_stats_desc[\"Goals\"].cumsum()\n",
    "\n",
    "    # create player series for graphing. reset_index() to normalise\n",
    "    player_series = player_stats_desc[\"Goals (Cumulative)\"].reset_index(drop=True)\n",
    "\n",
    "    # graph series\n",
    "    player_series.plot(label=player_name,xlabel=X_AXIS_LABEL, ylabel=Y_AXIS_LABEL, title=GRAPH_TITLE, legend=display_legend)\n"
   ]
  },
  {
   "cell_type": "markdown",
   "metadata": {},
   "source": [
    "\n",
    "---\n",
    "\n",
    "## Task 2 – Plot one player\n",
    "\n",
    "### Assignment Spec\n",
    "\n",
    ">For a particular player - say \"Franklin, Lance\" - plot their accumlation of goals over time. The x-axis should be the number of games played and the y-axis should be the number of goals accumulated. Thus we expect to see a line that monotonically increases, but in what way will depend on the player's career.\n",
    "\n",
    "\n",
    "### Explanation of Steps taken\n",
    "\n",
    "TODO"
   ]
  },
  {
   "cell_type": "code",
   "execution_count": null,
   "metadata": {},
   "outputs": [],
   "source": [
    "get_random_player = False\n",
    "\n",
    "# Note: uncomment below line to graph a random player :)\n",
    "#get_random_player = True\n",
    "\n",
    "if get_random_player:\n",
    "    player = games_stats_players[\"displayName_stats\"].sample().values[0]\n",
    "else:\n",
    "    player = 'Franklin, Lance'\n",
    "\n",
    "set_graph_attributes(f\"{player} - Accumulation of goals over time\",\"Goals\", \"Number of Games\")\n",
    "\n",
    "plot_player(player)"
   ]
  },
  {
   "cell_type": "markdown",
   "metadata": {},
   "source": [
    "\n",
    "---\n",
    "\n",
    "## Task 3 – Plot multiple players\n",
    "\n",
    "### Assignment Spec\n",
    "> In the one chart, plot the lines for the following players:\n",
    "> - \"Franklin, Lance\"\n",
    "> - \"Papley, Tom\"\n",
    "> - \"Mumford, Shane\"\n",
    "> - \"Hooker, Cale\".\n",
    ">\n",
    "> Plot each in a different colour so they can be distinguished and add a legend.\n",
    "\n",
    "\n",
    "### Explanation of Steps taken\n",
    "\n",
    "TODO"
   ]
  },
  {
   "cell_type": "code",
   "execution_count": null,
   "metadata": {},
   "outputs": [],
   "source": [
    "set_graph_attributes(\"Players - Accumulation of goals over time\", \"Goals\", \"Number of Games\")\n",
    "\n",
    "plot_player('Franklin, Lance', True)\n",
    "plot_player('Papley, Tom', True)\n",
    "plot_player('Mumford, Shane', True)\n",
    "plot_player('Hooker, Cale', True)"
   ]
  },
  {
   "cell_type": "markdown",
   "metadata": {},
   "source": [
    "\n",
    "---\n",
    "\n",
    "## Task 4 – Linear Regression\n",
    "\n",
    "### Assignment Spec\n",
    "> Create a second plot showing just \"Franklin, Lance\" and \"Hooker, Cale\" but include the linear regression line for each. In other words. as well as showing their actual cummulative goals over time, plot their predicted goals over time where the prediction is done via Linear Regression. Be sure to use different colours for each line and include a legend.\n",
    "\n",
    "\n",
    "### Explanation of Steps taken\n",
    "\n",
    "TODO"
   ]
  },
  {
   "cell_type": "code",
   "execution_count": null,
   "metadata": {},
   "outputs": [],
   "source": [
    "#todo"
   ]
  }
 ],
 "metadata": {
  "kernelspec": {
   "display_name": "Python 3",
   "language": "python",
   "name": "python3"
  },
  "language_info": {
   "codemirror_mode": {
    "name": "ipython",
    "version": 3
   },
   "file_extension": ".py",
   "mimetype": "text/x-python",
   "name": "python",
   "nbconvert_exporter": "python",
   "pygments_lexer": "ipython3",
   "version": "3.8.10"
  },
  "orig_nbformat": 4
 },
 "nbformat": 4,
 "nbformat_minor": 2
}
